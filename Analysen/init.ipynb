{
 "cells": [
  {
   "cell_type": "markdown",
   "metadata": {},
   "source": [
    "# Expo Analyse"
   ]
  },
  {
   "cell_type": "markdown",
   "metadata": {},
   "source": [
    "### Bibs"
   ]
  },
  {
   "cell_type": "code",
   "execution_count": 35,
   "metadata": {},
   "outputs": [],
   "source": [
    "import pandas as pd\n",
    "import numpy as np"
   ]
  },
  {
   "cell_type": "markdown",
   "metadata": {},
   "source": [
    "### Daten Import"
   ]
  },
  {
   "cell_type": "code",
   "execution_count": 36,
   "metadata": {},
   "outputs": [],
   "source": [
    "art_hi = pd.read_pickle('../data/artikelhierarchie.pkl')\n",
    "item_clu = pd.read_pickle('../data/item_cluster.pkl')\n",
    "visits = pd.read_pickle('../data/visit_h.pkl')"
   ]
  },
  {
   "cell_type": "code",
   "execution_count": 37,
   "metadata": {},
   "outputs": [
    {
     "data": {
      "text/html": [
       "<div>\n",
       "<style scoped>\n",
       "    .dataframe tbody tr th:only-of-type {\n",
       "        vertical-align: middle;\n",
       "    }\n",
       "\n",
       "    .dataframe tbody tr th {\n",
       "        vertical-align: top;\n",
       "    }\n",
       "\n",
       "    .dataframe thead th {\n",
       "        text-align: right;\n",
       "    }\n",
       "</style>\n",
       "<table border=\"1\" class=\"dataframe\">\n",
       "  <thead>\n",
       "    <tr style=\"text-align: right;\">\n",
       "      <th></th>\n",
       "      <th>BDF</th>\n",
       "      <th>MERCHANDISESTYLE_CODE</th>\n",
       "      <th>MERCHANDISESTYLE_COMMUNICATIONKEY</th>\n",
       "      <th>PRODUCT_ID</th>\n",
       "      <th>MARKE</th>\n",
       "      <th>MARKENGRUPPE</th>\n",
       "      <th>LAGERWARENTYP</th>\n",
       "      <th>VERWENDUNGSKENNZEICHEN</th>\n",
       "      <th>PRODUKTTYP</th>\n",
       "      <th>PBK</th>\n",
       "      <th>...</th>\n",
       "      <th>SUB_KATEGORIE_ID</th>\n",
       "      <th>SUB_KATEGORIE_BEZEICHNUNG</th>\n",
       "      <th>KATEGORIE_ID</th>\n",
       "      <th>KATEGORIE_BEZEICHNUNG</th>\n",
       "      <th>KATEGORIE_DIRECT_ID</th>\n",
       "      <th>KATEGORIE_DIRECT_BEZEICHNUNG</th>\n",
       "      <th>NOS</th>\n",
       "      <th>VEK</th>\n",
       "      <th>BEK</th>\n",
       "      <th>STAMM_VK</th>\n",
       "    </tr>\n",
       "  </thead>\n",
       "  <tbody>\n",
       "    <tr>\n",
       "      <th>0</th>\n",
       "      <td>0</td>\n",
       "      <td>JANAGELENK</td>\n",
       "      <td>1233553071</td>\n",
       "      <td>1233553071</td>\n",
       "      <td>JANASTYLE</td>\n",
       "      <td>Fremdmarke</td>\n",
       "      <td>LW</td>\n",
       "      <td>1</td>\n",
       "      <td>Armstulpen</td>\n",
       "      <td>Stulpen</td>\n",
       "      <td>...</td>\n",
       "      <td>101</td>\n",
       "      <td>Mainstream</td>\n",
       "      <td>11</td>\n",
       "      <td>Fashion</td>\n",
       "      <td>1</td>\n",
       "      <td>Fashion &amp; Sports</td>\n",
       "      <td>Nein</td>\n",
       "      <td>5.9</td>\n",
       "      <td>5.9</td>\n",
       "      <td>14.99</td>\n",
       "    </tr>\n",
       "    <tr>\n",
       "      <th>1</th>\n",
       "      <td>0</td>\n",
       "      <td>JANAGELENK</td>\n",
       "      <td>1233553071</td>\n",
       "      <td>1233553071</td>\n",
       "      <td>JANASTYLE</td>\n",
       "      <td>Fremdmarke</td>\n",
       "      <td>LW</td>\n",
       "      <td>1</td>\n",
       "      <td>Armstulpen</td>\n",
       "      <td>Stulpen</td>\n",
       "      <td>...</td>\n",
       "      <td>101</td>\n",
       "      <td>Mainstream</td>\n",
       "      <td>11</td>\n",
       "      <td>Fashion</td>\n",
       "      <td>1</td>\n",
       "      <td>Fashion &amp; Sports</td>\n",
       "      <td>Nein</td>\n",
       "      <td>5.9</td>\n",
       "      <td>5.9</td>\n",
       "      <td>14.99</td>\n",
       "    </tr>\n",
       "  </tbody>\n",
       "</table>\n",
       "<p>2 rows × 40 columns</p>\n",
       "</div>"
      ],
      "text/plain": [
       "   BDF MERCHANDISESTYLE_CODE  MERCHANDISESTYLE_COMMUNICATIONKEY  PRODUCT_ID  \\\n",
       "0    0            JANAGELENK                         1233553071  1233553071   \n",
       "1    0            JANAGELENK                         1233553071  1233553071   \n",
       "\n",
       "       MARKE MARKENGRUPPE LAGERWARENTYP  VERWENDUNGSKENNZEICHEN  PRODUKTTYP  \\\n",
       "0  JANASTYLE   Fremdmarke            LW                       1  Armstulpen   \n",
       "1  JANASTYLE   Fremdmarke            LW                       1  Armstulpen   \n",
       "\n",
       "       PBK  ...  SUB_KATEGORIE_ID SUB_KATEGORIE_BEZEICHNUNG KATEGORIE_ID  \\\n",
       "0  Stulpen  ...               101                Mainstream           11   \n",
       "1  Stulpen  ...               101                Mainstream           11   \n",
       "\n",
       "   KATEGORIE_BEZEICHNUNG  KATEGORIE_DIRECT_ID  KATEGORIE_DIRECT_BEZEICHNUNG  \\\n",
       "0                Fashion                    1              Fashion & Sports   \n",
       "1                Fashion                    1              Fashion & Sports   \n",
       "\n",
       "    NOS  VEK  BEK  STAMM_VK  \n",
       "0  Nein  5.9  5.9     14.99  \n",
       "1  Nein  5.9  5.9     14.99  \n",
       "\n",
       "[2 rows x 40 columns]"
      ]
     },
     "execution_count": 37,
     "metadata": {},
     "output_type": "execute_result"
    }
   ],
   "source": [
    "art_hi.head(2)"
   ]
  },
  {
   "cell_type": "code",
   "execution_count": 38,
   "metadata": {},
   "outputs": [
    {
     "data": {
      "text/html": [
       "<div>\n",
       "<style scoped>\n",
       "    .dataframe tbody tr th:only-of-type {\n",
       "        vertical-align: middle;\n",
       "    }\n",
       "\n",
       "    .dataframe tbody tr th {\n",
       "        vertical-align: top;\n",
       "    }\n",
       "\n",
       "    .dataframe thead th {\n",
       "        text-align: right;\n",
       "    }\n",
       "</style>\n",
       "<table border=\"1\" class=\"dataframe\">\n",
       "  <thead>\n",
       "    <tr style=\"text-align: right;\">\n",
       "      <th></th>\n",
       "      <th>SUB_KATEGORIE_ID</th>\n",
       "      <th>ITEM_H_SK</th>\n",
       "      <th>GESCHAEFTSJAHR_HALBJAHR</th>\n",
       "      <th>MONAT</th>\n",
       "      <th>IS_DEALBUY</th>\n",
       "      <th>DEALBUY_VALUE</th>\n",
       "      <th>IS_NOS</th>\n",
       "      <th>NOS_VALUE</th>\n",
       "      <th>SEASON</th>\n",
       "      <th>SEASONORIGIN</th>\n",
       "      <th>WITH_ORDER</th>\n",
       "      <th>CLUSTER_DIM1</th>\n",
       "      <th>CLUSTER_DIM2</th>\n",
       "      <th>RK</th>\n",
       "    </tr>\n",
       "  </thead>\n",
       "  <tbody>\n",
       "    <tr>\n",
       "      <th>0</th>\n",
       "      <td>516</td>\n",
       "      <td>bcf3b916c89dbc4db300adebb3233588</td>\n",
       "      <td>202302</td>\n",
       "      <td>1</td>\n",
       "      <td>False</td>\n",
       "      <td>None</td>\n",
       "      <td>False</td>\n",
       "      <td>None</td>\n",
       "      <td>149</td>\n",
       "      <td>143</td>\n",
       "      <td>False</td>\n",
       "      <td>KOLLEKTION</td>\n",
       "      <td>BESTANDSUEBERNAHME/RESTE</td>\n",
       "      <td>1</td>\n",
       "    </tr>\n",
       "    <tr>\n",
       "      <th>1</th>\n",
       "      <td>516</td>\n",
       "      <td>47c13bbc6427ffc1dab98bd2e13cbd72</td>\n",
       "      <td>202402</td>\n",
       "      <td>1</td>\n",
       "      <td>False</td>\n",
       "      <td>None</td>\n",
       "      <td>False</td>\n",
       "      <td>None</td>\n",
       "      <td>149</td>\n",
       "      <td>140</td>\n",
       "      <td>False</td>\n",
       "      <td>KOLLEKTION</td>\n",
       "      <td>BESTANDSUEBERNAHME/RESTE</td>\n",
       "      <td>1</td>\n",
       "    </tr>\n",
       "  </tbody>\n",
       "</table>\n",
       "</div>"
      ],
      "text/plain": [
       "   SUB_KATEGORIE_ID                         ITEM_H_SK  \\\n",
       "0               516  bcf3b916c89dbc4db300adebb3233588   \n",
       "1               516  47c13bbc6427ffc1dab98bd2e13cbd72   \n",
       "\n",
       "   GESCHAEFTSJAHR_HALBJAHR  MONAT  IS_DEALBUY DEALBUY_VALUE  IS_NOS NOS_VALUE  \\\n",
       "0                   202302      1       False          None   False      None   \n",
       "1                   202402      1       False          None   False      None   \n",
       "\n",
       "   SEASON  SEASONORIGIN  WITH_ORDER CLUSTER_DIM1              CLUSTER_DIM2  RK  \n",
       "0     149           143       False   KOLLEKTION  BESTANDSUEBERNAHME/RESTE   1  \n",
       "1     149           140       False   KOLLEKTION  BESTANDSUEBERNAHME/RESTE   1  "
      ]
     },
     "execution_count": 38,
     "metadata": {},
     "output_type": "execute_result"
    }
   ],
   "source": [
    "item_clu.head(2)"
   ]
  },
  {
   "cell_type": "code",
   "execution_count": 39,
   "metadata": {},
   "outputs": [
    {
     "data": {
      "text/html": [
       "<div>\n",
       "<style scoped>\n",
       "    .dataframe tbody tr th:only-of-type {\n",
       "        vertical-align: middle;\n",
       "    }\n",
       "\n",
       "    .dataframe tbody tr th {\n",
       "        vertical-align: top;\n",
       "    }\n",
       "\n",
       "    .dataframe thead th {\n",
       "        text-align: right;\n",
       "    }\n",
       "</style>\n",
       "<table border=\"1\" class=\"dataframe\">\n",
       "  <thead>\n",
       "    <tr style=\"text-align: right;\">\n",
       "      <th></th>\n",
       "      <th>visit_type</th>\n",
       "      <th>visit_h_sk</th>\n",
       "      <th>ot_bot</th>\n",
       "    </tr>\n",
       "  </thead>\n",
       "  <tbody>\n",
       "    <tr>\n",
       "      <th>0</th>\n",
       "      <td>qVisit</td>\n",
       "      <td>b'\\x11$\\x11|\\x84}}\\x16\\xee\\x10\\x01G\\x02e/\\x8f'</td>\n",
       "      <td>False</td>\n",
       "    </tr>\n",
       "    <tr>\n",
       "      <th>1</th>\n",
       "      <td>qVisit</td>\n",
       "      <td>b'^?(\\x85\\\\b\\xfe\\x80=(;Q\\x9b\\x04n0'</td>\n",
       "      <td>False</td>\n",
       "    </tr>\n",
       "  </tbody>\n",
       "</table>\n",
       "</div>"
      ],
      "text/plain": [
       "  visit_type                                      visit_h_sk  ot_bot\n",
       "0     qVisit  b'\\x11$\\x11|\\x84}}\\x16\\xee\\x10\\x01G\\x02e/\\x8f'   False\n",
       "1     qVisit             b'^?(\\x85\\\\b\\xfe\\x80=(;Q\\x9b\\x04n0'   False"
      ]
     },
     "execution_count": 39,
     "metadata": {},
     "output_type": "execute_result"
    }
   ],
   "source": [
    "visits.head(2)"
   ]
  },
  {
   "cell_type": "markdown",
   "metadata": {},
   "source": [
    "### Explore 1\n",
    "Tabellen kennen lernen für Bearbeitung "
   ]
  },
  {
   "cell_type": "markdown",
   "metadata": {},
   "source": [
    "shape all\n"
   ]
  },
  {
   "cell_type": "code",
   "execution_count": 40,
   "metadata": {},
   "outputs": [
    {
     "name": "stdout",
     "output_type": "stream",
     "text": [
      "art_hi: (1000, 40) \n",
      "item_clu: (1000, 14) \n",
      "visits: (6080250, 3)\n"
     ]
    }
   ],
   "source": [
    "print(f'art_hi: {art_hi.shape} \\nitem_clu: {item_clu.shape} \\nvisits: {visits.shape}')"
   ]
  },
  {
   "cell_type": "markdown",
   "metadata": {},
   "source": [
    " `art_hi` Daten kennen lernen für Bearbeitung"
   ]
  },
  {
   "cell_type": "code",
   "execution_count": 41,
   "metadata": {},
   "outputs": [
    {
     "data": {
      "text/plain": [
       "Index(['BDF', 'MERCHANDISESTYLE_CODE', 'MERCHANDISESTYLE_COMMUNICATIONKEY',\n",
       "       'PRODUCT_ID', 'MARKE', 'MARKENGRUPPE', 'LAGERWARENTYP',\n",
       "       'VERWENDUNGSKENNZEICHEN', 'PRODUKTTYP', 'PBK',\n",
       "       'ITEMOPTION_COMMUNICATIONKEY', 'ITEMOPTION_H_SK', 'ARTIKELGROESSE',\n",
       "       'VARIATION_ID', 'ARTIKELNUMMER', 'ITEM_COMMUNICATIONKEY', 'ITEM_H_SK',\n",
       "       'URSPRUNG_SEASON', 'SEASON', 'LKZ', 'LIEFERANT_BEZEICHNUNG',\n",
       "       'MARKENKENNZEICHEN', 'MKZ', 'MKZ_BEZEICHNUNG', 'WARENGRUPPE', 'FT',\n",
       "       'OT', 'MARKTVERGLEICHSGRUPPE', 'ARTIKELSTATUS', 'SAISONKENNZEICHEN',\n",
       "       'SUB_KATEGORIE_ID', 'SUB_KATEGORIE_BEZEICHNUNG', 'KATEGORIE_ID',\n",
       "       'KATEGORIE_BEZEICHNUNG', 'KATEGORIE_DIRECT_ID',\n",
       "       'KATEGORIE_DIRECT_BEZEICHNUNG', 'NOS', 'VEK', 'BEK', 'STAMM_VK'],\n",
       "      dtype='object')"
      ]
     },
     "execution_count": 41,
     "metadata": {},
     "output_type": "execute_result"
    }
   ],
   "source": [
    "art_hi.columns"
   ]
  },
  {
   "cell_type": "code",
   "execution_count": 42,
   "metadata": {},
   "outputs": [
    {
     "data": {
      "text/plain": [
       "BDF                                    0\n",
       "MERCHANDISESTYLE_CODE                  0\n",
       "MERCHANDISESTYLE_COMMUNICATIONKEY      0\n",
       "PRODUCT_ID                           998\n",
       "MARKE                                  0\n",
       "MARKENGRUPPE                           0\n",
       "LAGERWARENTYP                          0\n",
       "VERWENDUNGSKENNZEICHEN                 0\n",
       "PRODUKTTYP                             0\n",
       "PBK                                    0\n",
       "ITEMOPTION_COMMUNICATIONKEY            0\n",
       "ITEMOPTION_H_SK                        0\n",
       "ARTIKELGROESSE                         0\n",
       "VARIATION_ID                         998\n",
       "ARTIKELNUMMER                          0\n",
       "ITEM_COMMUNICATIONKEY                  0\n",
       "ITEM_H_SK                              0\n",
       "URSPRUNG_SEASON                        0\n",
       "SEASON                                 0\n",
       "LKZ                                    0\n",
       "LIEFERANT_BEZEICHNUNG                  0\n",
       "MARKENKENNZEICHEN                      0\n",
       "MKZ                                    0\n",
       "MKZ_BEZEICHNUNG                        0\n",
       "WARENGRUPPE                            0\n",
       "FT                                     0\n",
       "OT                                     0\n",
       "MARKTVERGLEICHSGRUPPE                  0\n",
       "ARTIKELSTATUS                          0\n",
       "SAISONKENNZEICHEN                      0\n",
       "SUB_KATEGORIE_ID                       0\n",
       "SUB_KATEGORIE_BEZEICHNUNG              0\n",
       "KATEGORIE_ID                           0\n",
       "KATEGORIE_BEZEICHNUNG                  0\n",
       "KATEGORIE_DIRECT_ID                    0\n",
       "KATEGORIE_DIRECT_BEZEICHNUNG           0\n",
       "NOS                                    0\n",
       "VEK                                    0\n",
       "BEK                                    0\n",
       "STAMM_VK                               0\n",
       "dtype: int64"
      ]
     },
     "execution_count": 42,
     "metadata": {},
     "output_type": "execute_result"
    }
   ],
   "source": [
    "art_hi.isnull().sum()"
   ]
  },
  {
   "cell_type": "markdown",
   "metadata": {},
   "source": [
    " `item_clu` Daten kennen lernen für Bearbeitung"
   ]
  },
  {
   "cell_type": "code",
   "execution_count": 43,
   "metadata": {},
   "outputs": [
    {
     "data": {
      "text/plain": [
       "SUB_KATEGORIE_ID             0\n",
       "ITEM_H_SK                    0\n",
       "GESCHAEFTSJAHR_HALBJAHR      0\n",
       "MONAT                        0\n",
       "IS_DEALBUY                   0\n",
       "DEALBUY_VALUE              997\n",
       "IS_NOS                       0\n",
       "NOS_VALUE                  947\n",
       "SEASON                       0\n",
       "SEASONORIGIN                 1\n",
       "WITH_ORDER                   0\n",
       "CLUSTER_DIM1                 0\n",
       "CLUSTER_DIM2                 0\n",
       "RK                           0\n",
       "dtype: int64"
      ]
     },
     "execution_count": 43,
     "metadata": {},
     "output_type": "execute_result"
    }
   ],
   "source": [
    "item_clu.isnull().sum()"
   ]
  },
  {
   "cell_type": "code",
   "execution_count": 44,
   "metadata": {},
   "outputs": [
    {
     "data": {
      "text/plain": [
       "Index(['SUB_KATEGORIE_ID', 'ITEM_H_SK', 'GESCHAEFTSJAHR_HALBJAHR', 'MONAT',\n",
       "       'IS_DEALBUY', 'DEALBUY_VALUE', 'IS_NOS', 'NOS_VALUE', 'SEASON',\n",
       "       'SEASONORIGIN', 'WITH_ORDER', 'CLUSTER_DIM1', 'CLUSTER_DIM2', 'RK'],\n",
       "      dtype='object')"
      ]
     },
     "execution_count": 44,
     "metadata": {},
     "output_type": "execute_result"
    }
   ],
   "source": [
    "item_clu.columns"
   ]
  },
  {
   "cell_type": "markdown",
   "metadata": {},
   "source": [
    "`visits` Daten kennen lernen für Bearbeitung "
   ]
  },
  {
   "cell_type": "code",
   "execution_count": 45,
   "metadata": {},
   "outputs": [
    {
     "data": {
      "text/plain": [
       "Index(['visit_type', 'visit_h_sk', 'ot_bot'], dtype='object')"
      ]
     },
     "execution_count": 45,
     "metadata": {},
     "output_type": "execute_result"
    }
   ],
   "source": [
    "visits.columns"
   ]
  },
  {
   "cell_type": "code",
   "execution_count": 46,
   "metadata": {},
   "outputs": [
    {
     "data": {
      "text/plain": [
       "visit_type    0\n",
       "visit_h_sk    0\n",
       "ot_bot        0\n",
       "dtype: int64"
      ]
     },
     "execution_count": 46,
     "metadata": {},
     "output_type": "execute_result"
    }
   ],
   "source": [
    "visits.isnull().sum()"
   ]
  },
  {
   "cell_type": "markdown",
   "metadata": {},
   "source": [
    "### Transform Data "
   ]
  },
  {
   "cell_type": "markdown",
   "metadata": {},
   "source": [
    "Tabellen Joinen\n"
   ]
  },
  {
   "cell_type": "code",
   "execution_count": null,
   "metadata": {},
   "outputs": [],
   "source": []
  }
 ],
 "metadata": {
  "kernelspec": {
   "display_name": "analytics",
   "language": "python",
   "name": "python3"
  },
  "language_info": {
   "codemirror_mode": {
    "name": "ipython",
    "version": 3
   },
   "file_extension": ".py",
   "mimetype": "text/x-python",
   "name": "python",
   "nbconvert_exporter": "python",
   "pygments_lexer": "ipython3",
   "version": "3.11.4"
  }
 },
 "nbformat": 4,
 "nbformat_minor": 2
}

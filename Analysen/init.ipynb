{
 "cells": [
  {
   "cell_type": "markdown",
   "metadata": {},
   "source": [
    "# Expo Analyse"
   ]
  },
  {
   "cell_type": "markdown",
   "metadata": {},
   "source": [
    "### Bibs"
   ]
  },
  {
   "cell_type": "code",
   "execution_count": 332,
   "metadata": {},
   "outputs": [],
   "source": [
    "import pandas as pd\n",
    "import numpy as np"
   ]
  },
  {
   "cell_type": "markdown",
   "metadata": {},
   "source": [
    "### Daten Import"
   ]
  },
  {
   "cell_type": "code",
   "execution_count": 333,
   "metadata": {},
   "outputs": [],
   "source": [
    "art_hi = pd.read_pickle('../data/artikelhierarchie.pkl')\n",
    "item_clu = pd.read_pickle('../data/item_cluster.pkl')\n",
    "visits = pd.read_pickle('../data/visit_h.pkl')"
   ]
  },
  {
   "cell_type": "code",
   "execution_count": 334,
   "metadata": {},
   "outputs": [
    {
     "data": {
      "text/html": [
       "<div>\n",
       "<style scoped>\n",
       "    .dataframe tbody tr th:only-of-type {\n",
       "        vertical-align: middle;\n",
       "    }\n",
       "\n",
       "    .dataframe tbody tr th {\n",
       "        vertical-align: top;\n",
       "    }\n",
       "\n",
       "    .dataframe thead th {\n",
       "        text-align: right;\n",
       "    }\n",
       "</style>\n",
       "<table border=\"1\" class=\"dataframe\">\n",
       "  <thead>\n",
       "    <tr style=\"text-align: right;\">\n",
       "      <th></th>\n",
       "      <th>MARKE</th>\n",
       "      <th>ARTIKELNUMMER</th>\n",
       "      <th>ITEM_H_SK</th>\n",
       "      <th>SEASON</th>\n",
       "      <th>MKZ</th>\n",
       "      <th>KATEGORIE_BEZEICHNUNG</th>\n",
       "      <th>NOS</th>\n",
       "      <th>VEK</th>\n",
       "      <th>BEK</th>\n",
       "      <th>STAMM_VK</th>\n",
       "    </tr>\n",
       "  </thead>\n",
       "  <tbody>\n",
       "    <tr>\n",
       "      <th>0</th>\n",
       "      <td>HUGO UNDERWEAR</td>\n",
       "      <td>28139351</td>\n",
       "      <td>63e265ae75ce388c07c5ece13769638c</td>\n",
       "      <td>149</td>\n",
       "      <td>423</td>\n",
       "      <td>Fashion</td>\n",
       "      <td>Nein</td>\n",
       "      <td>10.96</td>\n",
       "      <td>10.96</td>\n",
       "      <td>27.95</td>\n",
       "    </tr>\n",
       "    <tr>\n",
       "      <th>1</th>\n",
       "      <td>HUGO UNDERWEAR</td>\n",
       "      <td>28139351</td>\n",
       "      <td>63e265ae75ce388c07c5ece13769638c</td>\n",
       "      <td>149</td>\n",
       "      <td>423</td>\n",
       "      <td>Fashion</td>\n",
       "      <td>Nein</td>\n",
       "      <td>10.96</td>\n",
       "      <td>10.96</td>\n",
       "      <td>27.95</td>\n",
       "    </tr>\n",
       "  </tbody>\n",
       "</table>\n",
       "</div>"
      ],
      "text/plain": [
       "            MARKE  ARTIKELNUMMER                         ITEM_H_SK  SEASON  \\\n",
       "0  HUGO UNDERWEAR       28139351  63e265ae75ce388c07c5ece13769638c     149   \n",
       "1  HUGO UNDERWEAR       28139351  63e265ae75ce388c07c5ece13769638c     149   \n",
       "\n",
       "   MKZ KATEGORIE_BEZEICHNUNG   NOS    VEK    BEK  STAMM_VK  \n",
       "0  423               Fashion  Nein  10.96  10.96     27.95  \n",
       "1  423               Fashion  Nein  10.96  10.96     27.95  "
      ]
     },
     "execution_count": 334,
     "metadata": {},
     "output_type": "execute_result"
    }
   ],
   "source": [
    "art_hi.head(2)"
   ]
  },
  {
   "cell_type": "code",
   "execution_count": 335,
   "metadata": {},
   "outputs": [
    {
     "data": {
      "text/html": [
       "<div>\n",
       "<style scoped>\n",
       "    .dataframe tbody tr th:only-of-type {\n",
       "        vertical-align: middle;\n",
       "    }\n",
       "\n",
       "    .dataframe tbody tr th {\n",
       "        vertical-align: top;\n",
       "    }\n",
       "\n",
       "    .dataframe thead th {\n",
       "        text-align: right;\n",
       "    }\n",
       "</style>\n",
       "<table border=\"1\" class=\"dataframe\">\n",
       "  <thead>\n",
       "    <tr style=\"text-align: right;\">\n",
       "      <th></th>\n",
       "      <th>ITEM_H_SK</th>\n",
       "      <th>IS_DEALBUY</th>\n",
       "      <th>IS_NOS</th>\n",
       "      <th>CLUSTER_DIM1</th>\n",
       "      <th>CLUSTER_DIM2</th>\n",
       "    </tr>\n",
       "  </thead>\n",
       "  <tbody>\n",
       "    <tr>\n",
       "      <th>19614984</th>\n",
       "      <td>ec3d902a7ce6fda5b65ff0055caf1042</td>\n",
       "      <td>False</td>\n",
       "      <td>False</td>\n",
       "      <td>KOLLEKTION</td>\n",
       "      <td>BESTANDSUEBERNAHME/RESTE</td>\n",
       "    </tr>\n",
       "    <tr>\n",
       "      <th>8569063</th>\n",
       "      <td>e5ebdfb32b12144009bb15c8d3f496bb</td>\n",
       "      <td>False</td>\n",
       "      <td>False</td>\n",
       "      <td>N.A.</td>\n",
       "      <td>N.A.</td>\n",
       "    </tr>\n",
       "  </tbody>\n",
       "</table>\n",
       "</div>"
      ],
      "text/plain": [
       "                                 ITEM_H_SK  IS_DEALBUY  IS_NOS CLUSTER_DIM1  \\\n",
       "19614984  ec3d902a7ce6fda5b65ff0055caf1042       False   False   KOLLEKTION   \n",
       "8569063   e5ebdfb32b12144009bb15c8d3f496bb       False   False         N.A.   \n",
       "\n",
       "                      CLUSTER_DIM2  \n",
       "19614984  BESTANDSUEBERNAHME/RESTE  \n",
       "8569063                       N.A.  "
      ]
     },
     "execution_count": 335,
     "metadata": {},
     "output_type": "execute_result"
    }
   ],
   "source": [
    "item_clu.sample(2)"
   ]
  },
  {
   "cell_type": "code",
   "execution_count": 336,
   "metadata": {},
   "outputs": [
    {
     "data": {
      "text/html": [
       "<div>\n",
       "<style scoped>\n",
       "    .dataframe tbody tr th:only-of-type {\n",
       "        vertical-align: middle;\n",
       "    }\n",
       "\n",
       "    .dataframe tbody tr th {\n",
       "        vertical-align: top;\n",
       "    }\n",
       "\n",
       "    .dataframe thead th {\n",
       "        text-align: right;\n",
       "    }\n",
       "</style>\n",
       "<table border=\"1\" class=\"dataframe\">\n",
       "  <thead>\n",
       "    <tr style=\"text-align: right;\">\n",
       "      <th></th>\n",
       "      <th>visit_type</th>\n",
       "      <th>visit_h_sk</th>\n",
       "      <th>ot_bot</th>\n",
       "    </tr>\n",
       "  </thead>\n",
       "  <tbody>\n",
       "    <tr>\n",
       "      <th>0</th>\n",
       "      <td>qVisit</td>\n",
       "      <td>b'\\x11$\\x11|\\x84}}\\x16\\xee\\x10\\x01G\\x02e/\\x8f'</td>\n",
       "      <td>False</td>\n",
       "    </tr>\n",
       "    <tr>\n",
       "      <th>1</th>\n",
       "      <td>qVisit</td>\n",
       "      <td>b'^?(\\x85\\\\b\\xfe\\x80=(;Q\\x9b\\x04n0'</td>\n",
       "      <td>False</td>\n",
       "    </tr>\n",
       "  </tbody>\n",
       "</table>\n",
       "</div>"
      ],
      "text/plain": [
       "  visit_type                                      visit_h_sk  ot_bot\n",
       "0     qVisit  b'\\x11$\\x11|\\x84}}\\x16\\xee\\x10\\x01G\\x02e/\\x8f'   False\n",
       "1     qVisit             b'^?(\\x85\\\\b\\xfe\\x80=(;Q\\x9b\\x04n0'   False"
      ]
     },
     "execution_count": 336,
     "metadata": {},
     "output_type": "execute_result"
    }
   ],
   "source": [
    "visits.head(2)"
   ]
  },
  {
   "cell_type": "markdown",
   "metadata": {},
   "source": [
    "### Explore 1\n",
    "Tabellen kennen lernen für Bearbeitung "
   ]
  },
  {
   "cell_type": "markdown",
   "metadata": {},
   "source": [
    "shape all\n"
   ]
  },
  {
   "cell_type": "code",
   "execution_count": 337,
   "metadata": {},
   "outputs": [
    {
     "name": "stdout",
     "output_type": "stream",
     "text": [
      "art_hi: (97319, 10) \n",
      "item_clu: (19746564, 5) \n",
      "visits: (6080250, 3)\n"
     ]
    }
   ],
   "source": [
    "print(f'art_hi: {art_hi.shape} \\nitem_clu: {item_clu.shape} \\nvisits: {visits.shape}')"
   ]
  },
  {
   "cell_type": "markdown",
   "metadata": {},
   "source": [
    " `art_hi` Daten kennen lernen für Bearbeitung"
   ]
  },
  {
   "cell_type": "code",
   "execution_count": 338,
   "metadata": {},
   "outputs": [
    {
     "data": {
      "text/plain": [
       "Index(['MARKE', 'ARTIKELNUMMER', 'ITEM_H_SK', 'SEASON', 'MKZ',\n",
       "       'KATEGORIE_BEZEICHNUNG', 'NOS', 'VEK', 'BEK', 'STAMM_VK'],\n",
       "      dtype='object')"
      ]
     },
     "execution_count": 338,
     "metadata": {},
     "output_type": "execute_result"
    }
   ],
   "source": [
    "art_hi.columns"
   ]
  },
  {
   "cell_type": "code",
   "execution_count": 339,
   "metadata": {},
   "outputs": [
    {
     "data": {
      "text/plain": [
       "MARKE                    0\n",
       "ARTIKELNUMMER            0\n",
       "ITEM_H_SK                0\n",
       "SEASON                   0\n",
       "MKZ                      0\n",
       "KATEGORIE_BEZEICHNUNG    0\n",
       "NOS                      0\n",
       "VEK                      0\n",
       "BEK                      0\n",
       "STAMM_VK                 0\n",
       "dtype: int64"
      ]
     },
     "execution_count": 339,
     "metadata": {},
     "output_type": "execute_result"
    }
   ],
   "source": [
    "art_hi.isnull().sum()"
   ]
  },
  {
   "cell_type": "markdown",
   "metadata": {},
   "source": [
    " `item_clu` Daten kennen lernen für Bearbeitung"
   ]
  },
  {
   "cell_type": "code",
   "execution_count": 340,
   "metadata": {},
   "outputs": [
    {
     "data": {
      "text/plain": [
       "ITEM_H_SK       0\n",
       "IS_DEALBUY      0\n",
       "IS_NOS          0\n",
       "CLUSTER_DIM1    0\n",
       "CLUSTER_DIM2    0\n",
       "dtype: int64"
      ]
     },
     "execution_count": 340,
     "metadata": {},
     "output_type": "execute_result"
    }
   ],
   "source": [
    "item_clu.isnull().sum()"
   ]
  },
  {
   "cell_type": "code",
   "execution_count": 341,
   "metadata": {},
   "outputs": [
    {
     "data": {
      "text/plain": [
       "Index(['ITEM_H_SK', 'IS_DEALBUY', 'IS_NOS', 'CLUSTER_DIM1', 'CLUSTER_DIM2'], dtype='object')"
      ]
     },
     "execution_count": 341,
     "metadata": {},
     "output_type": "execute_result"
    }
   ],
   "source": [
    "item_clu.columns"
   ]
  },
  {
   "cell_type": "markdown",
   "metadata": {},
   "source": [
    "`visits` Daten kennen lernen für Bearbeitung "
   ]
  },
  {
   "cell_type": "code",
   "execution_count": 342,
   "metadata": {},
   "outputs": [
    {
     "data": {
      "text/html": [
       "<div>\n",
       "<style scoped>\n",
       "    .dataframe tbody tr th:only-of-type {\n",
       "        vertical-align: middle;\n",
       "    }\n",
       "\n",
       "    .dataframe tbody tr th {\n",
       "        vertical-align: top;\n",
       "    }\n",
       "\n",
       "    .dataframe thead th {\n",
       "        text-align: right;\n",
       "    }\n",
       "</style>\n",
       "<table border=\"1\" class=\"dataframe\">\n",
       "  <thead>\n",
       "    <tr style=\"text-align: right;\">\n",
       "      <th></th>\n",
       "      <th>visit_type</th>\n",
       "      <th>visit_h_sk</th>\n",
       "      <th>ot_bot</th>\n",
       "    </tr>\n",
       "  </thead>\n",
       "  <tbody>\n",
       "    <tr>\n",
       "      <th>4612243</th>\n",
       "      <td>qVisit</td>\n",
       "      <td>b'\\xf7\\x8ck\\xf3\\xb1\\xab\\x05\\xb9`,\\x1d\\x05~\\t\\x...</td>\n",
       "      <td>False</td>\n",
       "    </tr>\n",
       "    <tr>\n",
       "      <th>778453</th>\n",
       "      <td>unknown</td>\n",
       "      <td>b\"\\xce'\\xc6\\x07@]:\\xec\\xaa\\x894q\\xaa\\xe7\\x91\\xf6\"</td>\n",
       "      <td>False</td>\n",
       "    </tr>\n",
       "  </tbody>\n",
       "</table>\n",
       "</div>"
      ],
      "text/plain": [
       "        visit_type                                         visit_h_sk  ot_bot\n",
       "4612243     qVisit  b'\\xf7\\x8ck\\xf3\\xb1\\xab\\x05\\xb9`,\\x1d\\x05~\\t\\x...   False\n",
       "778453     unknown  b\"\\xce'\\xc6\\x07@]:\\xec\\xaa\\x894q\\xaa\\xe7\\x91\\xf6\"   False"
      ]
     },
     "execution_count": 342,
     "metadata": {},
     "output_type": "execute_result"
    }
   ],
   "source": [
    "visits.sample(2)"
   ]
  },
  {
   "cell_type": "code",
   "execution_count": 343,
   "metadata": {},
   "outputs": [
    {
     "data": {
      "text/plain": [
       "(6080250, 3)"
      ]
     },
     "execution_count": 343,
     "metadata": {},
     "output_type": "execute_result"
    }
   ],
   "source": [
    "visits.shape"
   ]
  },
  {
   "cell_type": "code",
   "execution_count": 344,
   "metadata": {},
   "outputs": [
    {
     "data": {
      "text/plain": [
       "visit_type    0\n",
       "visit_h_sk    0\n",
       "ot_bot        0\n",
       "dtype: int64"
      ]
     },
     "execution_count": 344,
     "metadata": {},
     "output_type": "execute_result"
    }
   ],
   "source": [
    "visits.isnull().sum()"
   ]
  },
  {
   "cell_type": "code",
   "execution_count": 345,
   "metadata": {},
   "outputs": [
    {
     "data": {
      "text/plain": [
       "visit_type\n",
       "unknown    5063521\n",
       "qVisit      742829\n",
       "bouncer     273900\n",
       "Name: count, dtype: int64"
      ]
     },
     "execution_count": 345,
     "metadata": {},
     "output_type": "execute_result"
    }
   ],
   "source": [
    "visits['visit_type'].value_counts()"
   ]
  },
  {
   "cell_type": "markdown",
   "metadata": {},
   "source": [
    "### Transform Data "
   ]
  },
  {
   "cell_type": "markdown",
   "metadata": {},
   "source": [
    "### Tabellen Joinen\n",
    "#### Cluster - Hierachi\n"
   ]
  },
  {
   "cell_type": "markdown",
   "metadata": {},
   "source": [
    "Duplikate entfernen von ITEM_H_SK "
   ]
  },
  {
   "cell_type": "code",
   "execution_count": 346,
   "metadata": {},
   "outputs": [],
   "source": [
    "# Entferne Duplikate, behalte das erste Vorkommen\n",
    "art_hi = art_hi.drop_duplicates(subset='ITEM_H_SK', keep='first')\n",
    "item_clu = item_clu.drop_duplicates(subset='ITEM_H_SK', keep='first')"
   ]
  },
  {
   "cell_type": "markdown",
   "metadata": {},
   "source": [
    "Überprüfung der Tabellen für Join"
   ]
  },
  {
   "cell_type": "code",
   "execution_count": 347,
   "metadata": {},
   "outputs": [],
   "source": [
    "# Überprüfung, ob das Attribut 'ITEM_H_SK' in beiden DataFrames vorhanden ist\n",
    "if 'ITEM_H_SK' not in art_hi.columns or 'ITEM_H_SK' not in item_clu.columns:\n",
    "    raise ValueError(\"Das Attribut 'ITEM_H_SK' fehlt in einem der DataFrames.\")\n",
    "\n",
    "# Überprüfung auf Duplikate im Schlüsselattribut 'ITEM_H_SK' in beiden DataFrames\n",
    "if art_hi['ITEM_H_SK'].duplicated().any():\n",
    "    raise ValueError(\"Es gibt Duplikate im Attribut 'ITEM_H_SK' in art_hi.\")\n",
    "if item_clu['ITEM_H_SK'].duplicated().any():\n",
    "    raise ValueError(\"Es gibt Duplikate im Attribut 'ITEM_H_SK' in item_clu.\")"
   ]
  },
  {
   "cell_type": "markdown",
   "metadata": {},
   "source": [
    "Inner Join für Überprüfung des gemeinsamen Attribut `ITEM_H_SK`"
   ]
  },
  {
   "cell_type": "code",
   "execution_count": 348,
   "metadata": {},
   "outputs": [],
   "source": [
    "# Zusammenführen der DataFrames auf Basis von 'ITEM_H_SK'\n",
    "art_item_inner = pd.merge(art_hi, item_clu, on='ITEM_H_SK', how='inner')"
   ]
  },
  {
   "cell_type": "code",
   "execution_count": 349,
   "metadata": {},
   "outputs": [
    {
     "name": "stdout",
     "output_type": "stream",
     "text": [
      "Anzahl der Überschneidungen von 'ITEM_H_SK': 15837\n"
     ]
    }
   ],
   "source": [
    "# Berechnet die Anzahl der Überschneidungen (gem. IETM_H_SK) der beiden DFs\n",
    "anzahl_ueberschneidungen = len(art_item_inner)\n",
    "\n",
    "print(f\"Anzahl der Überschneidungen von 'ITEM_H_SK': {anzahl_ueberschneidungen}\")"
   ]
  },
  {
   "cell_type": "code",
   "execution_count": 350,
   "metadata": {},
   "outputs": [
    {
     "data": {
      "text/html": [
       "<div>\n",
       "<style scoped>\n",
       "    .dataframe tbody tr th:only-of-type {\n",
       "        vertical-align: middle;\n",
       "    }\n",
       "\n",
       "    .dataframe tbody tr th {\n",
       "        vertical-align: top;\n",
       "    }\n",
       "\n",
       "    .dataframe thead th {\n",
       "        text-align: right;\n",
       "    }\n",
       "</style>\n",
       "<table border=\"1\" class=\"dataframe\">\n",
       "  <thead>\n",
       "    <tr style=\"text-align: right;\">\n",
       "      <th></th>\n",
       "      <th>MARKE</th>\n",
       "      <th>ARTIKELNUMMER</th>\n",
       "      <th>ITEM_H_SK</th>\n",
       "      <th>SEASON</th>\n",
       "      <th>MKZ</th>\n",
       "      <th>KATEGORIE_BEZEICHNUNG</th>\n",
       "      <th>NOS</th>\n",
       "      <th>VEK</th>\n",
       "      <th>BEK</th>\n",
       "      <th>STAMM_VK</th>\n",
       "      <th>IS_DEALBUY</th>\n",
       "      <th>IS_NOS</th>\n",
       "      <th>CLUSTER_DIM1</th>\n",
       "      <th>CLUSTER_DIM2</th>\n",
       "    </tr>\n",
       "  </thead>\n",
       "  <tbody>\n",
       "    <tr>\n",
       "      <th>4692</th>\n",
       "      <td>MARC O'POLO</td>\n",
       "      <td>59046851</td>\n",
       "      <td>7fdca1e4756fdcd8c25449cd91e002fa</td>\n",
       "      <td>149</td>\n",
       "      <td>231</td>\n",
       "      <td>Fashion</td>\n",
       "      <td>Ja</td>\n",
       "      <td>39.05</td>\n",
       "      <td>38.45</td>\n",
       "      <td>99.95</td>\n",
       "      <td>False</td>\n",
       "      <td>True</td>\n",
       "      <td>NOS</td>\n",
       "      <td>BESTANDSUEBERNAHME/RESTE</td>\n",
       "    </tr>\n",
       "    <tr>\n",
       "      <th>7575</th>\n",
       "      <td>TOMMY HILFIGER</td>\n",
       "      <td>34436612</td>\n",
       "      <td>b24b7789ccfe17b27750e1bea69248aa</td>\n",
       "      <td>149</td>\n",
       "      <td>226</td>\n",
       "      <td>Fashion</td>\n",
       "      <td>Nein</td>\n",
       "      <td>74.37</td>\n",
       "      <td>73.77</td>\n",
       "      <td>199.90</td>\n",
       "      <td>False</td>\n",
       "      <td>False</td>\n",
       "      <td>KOLLEKTION</td>\n",
       "      <td>BESTANDSUEBERNAHME/RESTE</td>\n",
       "    </tr>\n",
       "  </tbody>\n",
       "</table>\n",
       "</div>"
      ],
      "text/plain": [
       "               MARKE  ARTIKELNUMMER                         ITEM_H_SK  SEASON  \\\n",
       "4692     MARC O'POLO       59046851  7fdca1e4756fdcd8c25449cd91e002fa     149   \n",
       "7575  TOMMY HILFIGER       34436612  b24b7789ccfe17b27750e1bea69248aa     149   \n",
       "\n",
       "      MKZ KATEGORIE_BEZEICHNUNG   NOS    VEK    BEK  STAMM_VK  IS_DEALBUY  \\\n",
       "4692  231               Fashion    Ja  39.05  38.45     99.95       False   \n",
       "7575  226               Fashion  Nein  74.37  73.77    199.90       False   \n",
       "\n",
       "      IS_NOS CLUSTER_DIM1              CLUSTER_DIM2  \n",
       "4692    True          NOS  BESTANDSUEBERNAHME/RESTE  \n",
       "7575   False   KOLLEKTION  BESTANDSUEBERNAHME/RESTE  "
      ]
     },
     "execution_count": 350,
     "metadata": {},
     "output_type": "execute_result"
    }
   ],
   "source": [
    "art_item_inner.sample(2)"
   ]
  },
  {
   "cell_type": "markdown",
   "metadata": {},
   "source": [
    "#### art_item - views"
   ]
  },
  {
   "cell_type": "markdown",
   "metadata": {},
   "source": [
    "hash des `visit_H_SK` entfernen"
   ]
  },
  {
   "cell_type": "code",
   "execution_count": 351,
   "metadata": {},
   "outputs": [],
   "source": [
    "# Konvertiere Byte-Objekte in Hexadezimalform (visits_H_SK)\n",
    "visits['visit_h_sk_hex'] = visits['visit_h_sk'].apply(lambda x: x.hex())"
   ]
  },
  {
   "cell_type": "code",
   "execution_count": 356,
   "metadata": {},
   "outputs": [
    {
     "data": {
      "text/html": [
       "<div>\n",
       "<style scoped>\n",
       "    .dataframe tbody tr th:only-of-type {\n",
       "        vertical-align: middle;\n",
       "    }\n",
       "\n",
       "    .dataframe tbody tr th {\n",
       "        vertical-align: top;\n",
       "    }\n",
       "\n",
       "    .dataframe thead th {\n",
       "        text-align: right;\n",
       "    }\n",
       "</style>\n",
       "<table border=\"1\" class=\"dataframe\">\n",
       "  <thead>\n",
       "    <tr style=\"text-align: right;\">\n",
       "      <th></th>\n",
       "      <th>visit_h_sk_hex</th>\n",
       "      <th>visit_type</th>\n",
       "      <th>ot_bot</th>\n",
       "    </tr>\n",
       "  </thead>\n",
       "  <tbody>\n",
       "    <tr>\n",
       "      <th>0</th>\n",
       "      <td>1124117c847d7d16ee10014702652f8f</td>\n",
       "      <td>qVisit</td>\n",
       "      <td>False</td>\n",
       "    </tr>\n",
       "    <tr>\n",
       "      <th>1</th>\n",
       "      <td>5e3f28855c62fe803d283b519b046e30</td>\n",
       "      <td>qVisit</td>\n",
       "      <td>False</td>\n",
       "    </tr>\n",
       "    <tr>\n",
       "      <th>2</th>\n",
       "      <td>ad5bb6ccb4f0262b813fe7af8778b7a2</td>\n",
       "      <td>qVisit</td>\n",
       "      <td>False</td>\n",
       "    </tr>\n",
       "    <tr>\n",
       "      <th>3</th>\n",
       "      <td>d33d9c97f8a7db1d882eb88423419937</td>\n",
       "      <td>qVisit</td>\n",
       "      <td>False</td>\n",
       "    </tr>\n",
       "    <tr>\n",
       "      <th>4</th>\n",
       "      <td>dbb9831b6406d6cdb7a026e909583c5d</td>\n",
       "      <td>qVisit</td>\n",
       "      <td>False</td>\n",
       "    </tr>\n",
       "    <tr>\n",
       "      <th>...</th>\n",
       "      <td>...</td>\n",
       "      <td>...</td>\n",
       "      <td>...</td>\n",
       "    </tr>\n",
       "    <tr>\n",
       "      <th>6080245</th>\n",
       "      <td>0e8506acb983d78506503b263b214f2e</td>\n",
       "      <td>unknown</td>\n",
       "      <td>True</td>\n",
       "    </tr>\n",
       "    <tr>\n",
       "      <th>6080246</th>\n",
       "      <td>28627db1190826f521669cdf6248cecf</td>\n",
       "      <td>unknown</td>\n",
       "      <td>True</td>\n",
       "    </tr>\n",
       "    <tr>\n",
       "      <th>6080247</th>\n",
       "      <td>4aa7c79c86c7e21153ba6f9498871f35</td>\n",
       "      <td>unknown</td>\n",
       "      <td>True</td>\n",
       "    </tr>\n",
       "    <tr>\n",
       "      <th>6080248</th>\n",
       "      <td>b1b6c70c17fb555ca40e062438152de1</td>\n",
       "      <td>unknown</td>\n",
       "      <td>True</td>\n",
       "    </tr>\n",
       "    <tr>\n",
       "      <th>6080249</th>\n",
       "      <td>9cf662222f3f05416d36967502e29e40</td>\n",
       "      <td>unknown</td>\n",
       "      <td>True</td>\n",
       "    </tr>\n",
       "  </tbody>\n",
       "</table>\n",
       "<p>6080250 rows × 3 columns</p>\n",
       "</div>"
      ],
      "text/plain": [
       "                           visit_h_sk_hex visit_type  ot_bot\n",
       "0        1124117c847d7d16ee10014702652f8f     qVisit   False\n",
       "1        5e3f28855c62fe803d283b519b046e30     qVisit   False\n",
       "2        ad5bb6ccb4f0262b813fe7af8778b7a2     qVisit   False\n",
       "3        d33d9c97f8a7db1d882eb88423419937     qVisit   False\n",
       "4        dbb9831b6406d6cdb7a026e909583c5d     qVisit   False\n",
       "...                                   ...        ...     ...\n",
       "6080245  0e8506acb983d78506503b263b214f2e    unknown    True\n",
       "6080246  28627db1190826f521669cdf6248cecf    unknown    True\n",
       "6080247  4aa7c79c86c7e21153ba6f9498871f35    unknown    True\n",
       "6080248  b1b6c70c17fb555ca40e062438152de1    unknown    True\n",
       "6080249  9cf662222f3f05416d36967502e29e40    unknown    True\n",
       "\n",
       "[6080250 rows x 3 columns]"
      ]
     },
     "execution_count": 356,
     "metadata": {},
     "output_type": "execute_result"
    }
   ],
   "source": [
    "visits = visits[['visit_h_sk_hex', 'visit_type', 'ot_bot']]"
   ]
  },
  {
   "cell_type": "code",
   "execution_count": null,
   "metadata": {},
   "outputs": [
    {
     "data": {
      "text/plain": [
       "4642988    bouncer\n",
       "4403863     qVisit\n",
       "Name: visit_type, dtype: object"
      ]
     },
     "execution_count": 331,
     "metadata": {},
     "output_type": "execute_result"
    }
   ],
   "source": [
    "visits.sample(2)"
   ]
  },
  {
   "cell_type": "code",
   "execution_count": null,
   "metadata": {},
   "outputs": [],
   "source": []
  }
 ],
 "metadata": {
  "kernelspec": {
   "display_name": "analytics",
   "language": "python",
   "name": "python3"
  },
  "language_info": {
   "codemirror_mode": {
    "name": "ipython",
    "version": 3
   },
   "file_extension": ".py",
   "mimetype": "text/x-python",
   "name": "python",
   "nbconvert_exporter": "python",
   "pygments_lexer": "ipython3",
   "version": "3.11.4"
  }
 },
 "nbformat": 4,
 "nbformat_minor": 2
}

{
 "cells": [
  {
   "cell_type": "markdown",
   "metadata": {},
   "source": [
    "# Expo Analyse"
   ]
  },
  {
   "cell_type": "markdown",
   "metadata": {},
   "source": [
    "### Bibs"
   ]
  },
  {
   "cell_type": "code",
   "execution_count": 5,
   "metadata": {},
   "outputs": [],
   "source": [
    "import pandas as pd\n",
    "import numpy as np"
   ]
  },
  {
   "cell_type": "markdown",
   "metadata": {},
   "source": [
    "### Daten Import"
   ]
  },
  {
   "cell_type": "code",
   "execution_count": 8,
   "metadata": {},
   "outputs": [],
   "source": [
    "art_hi = pd.read_csv('../data/artikelhierarchie.csv')"
   ]
  },
  {
   "cell_type": "code",
   "execution_count": 9,
   "metadata": {},
   "outputs": [
    {
     "data": {
      "text/html": [
       "<div>\n",
       "<style scoped>\n",
       "    .dataframe tbody tr th:only-of-type {\n",
       "        vertical-align: middle;\n",
       "    }\n",
       "\n",
       "    .dataframe tbody tr th {\n",
       "        vertical-align: top;\n",
       "    }\n",
       "\n",
       "    .dataframe thead th {\n",
       "        text-align: right;\n",
       "    }\n",
       "</style>\n",
       "<table border=\"1\" class=\"dataframe\">\n",
       "  <thead>\n",
       "    <tr style=\"text-align: right;\">\n",
       "      <th></th>\n",
       "      <th>BDF</th>\n",
       "      <th>MERCHANDISESTYLE_CODE</th>\n",
       "      <th>MERCHANDISESTYLE_COMMUNICATIONKEY</th>\n",
       "      <th>PRODUCT_ID</th>\n",
       "      <th>MARKE</th>\n",
       "      <th>MARKENGRUPPE</th>\n",
       "      <th>LAGERWARENTYP</th>\n",
       "      <th>VERWENDUNGSKENNZEICHEN</th>\n",
       "      <th>PRODUKTTYP</th>\n",
       "      <th>PBK</th>\n",
       "      <th>...</th>\n",
       "      <th>SUB_KATEGORIE_ID</th>\n",
       "      <th>SUB_KATEGORIE_BEZEICHNUNG</th>\n",
       "      <th>KATEGORIE_ID</th>\n",
       "      <th>KATEGORIE_BEZEICHNUNG</th>\n",
       "      <th>KATEGORIE_DIRECT_ID</th>\n",
       "      <th>KATEGORIE_DIRECT_BEZEICHNUNG</th>\n",
       "      <th>NOS</th>\n",
       "      <th>VEK</th>\n",
       "      <th>BEK</th>\n",
       "      <th>STAMM_VK</th>\n",
       "    </tr>\n",
       "  </thead>\n",
       "  <tbody>\n",
       "    <tr>\n",
       "      <th>0</th>\n",
       "      <td>0</td>\n",
       "      <td>JANAGELENK</td>\n",
       "      <td>1233553071</td>\n",
       "      <td>1.233553e+09</td>\n",
       "      <td>JANASTYLE</td>\n",
       "      <td>Fremdmarke</td>\n",
       "      <td>LW</td>\n",
       "      <td>1</td>\n",
       "      <td>Armstulpen</td>\n",
       "      <td>Stulpen</td>\n",
       "      <td>...</td>\n",
       "      <td>101</td>\n",
       "      <td>Mainstream</td>\n",
       "      <td>11</td>\n",
       "      <td>Fashion</td>\n",
       "      <td>1</td>\n",
       "      <td>Fashion &amp; Sports</td>\n",
       "      <td>Nein</td>\n",
       "      <td>5.9</td>\n",
       "      <td>5.9</td>\n",
       "      <td>14.99</td>\n",
       "    </tr>\n",
       "    <tr>\n",
       "      <th>1</th>\n",
       "      <td>0</td>\n",
       "      <td>JANAGELENK</td>\n",
       "      <td>1233553071</td>\n",
       "      <td>1.233553e+09</td>\n",
       "      <td>JANASTYLE</td>\n",
       "      <td>Fremdmarke</td>\n",
       "      <td>LW</td>\n",
       "      <td>1</td>\n",
       "      <td>Armstulpen</td>\n",
       "      <td>Stulpen</td>\n",
       "      <td>...</td>\n",
       "      <td>101</td>\n",
       "      <td>Mainstream</td>\n",
       "      <td>11</td>\n",
       "      <td>Fashion</td>\n",
       "      <td>1</td>\n",
       "      <td>Fashion &amp; Sports</td>\n",
       "      <td>Nein</td>\n",
       "      <td>5.9</td>\n",
       "      <td>5.9</td>\n",
       "      <td>14.99</td>\n",
       "    </tr>\n",
       "  </tbody>\n",
       "</table>\n",
       "<p>2 rows × 40 columns</p>\n",
       "</div>"
      ],
      "text/plain": [
       "   BDF MERCHANDISESTYLE_CODE  MERCHANDISESTYLE_COMMUNICATIONKEY    PRODUCT_ID  \\\n",
       "0    0            JANAGELENK                         1233553071  1.233553e+09   \n",
       "1    0            JANAGELENK                         1233553071  1.233553e+09   \n",
       "\n",
       "       MARKE MARKENGRUPPE LAGERWARENTYP  VERWENDUNGSKENNZEICHEN  PRODUKTTYP  \\\n",
       "0  JANASTYLE   Fremdmarke            LW                       1  Armstulpen   \n",
       "1  JANASTYLE   Fremdmarke            LW                       1  Armstulpen   \n",
       "\n",
       "       PBK  ...  SUB_KATEGORIE_ID SUB_KATEGORIE_BEZEICHNUNG KATEGORIE_ID  \\\n",
       "0  Stulpen  ...               101                Mainstream           11   \n",
       "1  Stulpen  ...               101                Mainstream           11   \n",
       "\n",
       "   KATEGORIE_BEZEICHNUNG  KATEGORIE_DIRECT_ID  KATEGORIE_DIRECT_BEZEICHNUNG  \\\n",
       "0                Fashion                    1              Fashion & Sports   \n",
       "1                Fashion                    1              Fashion & Sports   \n",
       "\n",
       "    NOS  VEK  BEK  STAMM_VK  \n",
       "0  Nein  5.9  5.9     14.99  \n",
       "1  Nein  5.9  5.9     14.99  \n",
       "\n",
       "[2 rows x 40 columns]"
      ]
     },
     "execution_count": 9,
     "metadata": {},
     "output_type": "execute_result"
    }
   ],
   "source": [
    "art_hi.head(2)"
   ]
  },
  {
   "cell_type": "markdown",
   "metadata": {},
   "source": [
    "### Explore 1\n",
    "Daten kennen lernen für Bearbeitung"
   ]
  },
  {
   "cell_type": "code",
   "execution_count": 10,
   "metadata": {},
   "outputs": [
    {
     "data": {
      "text/plain": [
       "BDF                                    0\n",
       "MERCHANDISESTYLE_CODE                  0\n",
       "MERCHANDISESTYLE_COMMUNICATIONKEY      0\n",
       "PRODUCT_ID                           998\n",
       "MARKE                                  0\n",
       "MARKENGRUPPE                           0\n",
       "LAGERWARENTYP                          0\n",
       "VERWENDUNGSKENNZEICHEN                 0\n",
       "PRODUKTTYP                             0\n",
       "PBK                                    0\n",
       "ITEMOPTION_COMMUNICATIONKEY            0\n",
       "ITEMOPTION_H_SK                        0\n",
       "ARTIKELGROESSE                         0\n",
       "VARIATION_ID                         998\n",
       "ARTIKELNUMMER                          0\n",
       "ITEM_COMMUNICATIONKEY                  0\n",
       "ITEM_H_SK                              0\n",
       "URSPRUNG_SEASON                        0\n",
       "SEASON                                 0\n",
       "LKZ                                    0\n",
       "LIEFERANT_BEZEICHNUNG                  0\n",
       "MARKENKENNZEICHEN                      0\n",
       "MKZ                                    0\n",
       "MKZ_BEZEICHNUNG                        0\n",
       "WARENGRUPPE                            0\n",
       "FT                                     0\n",
       "OT                                     0\n",
       "MARKTVERGLEICHSGRUPPE                  0\n",
       "ARTIKELSTATUS                          0\n",
       "SAISONKENNZEICHEN                      0\n",
       "SUB_KATEGORIE_ID                       0\n",
       "SUB_KATEGORIE_BEZEICHNUNG              0\n",
       "KATEGORIE_ID                           0\n",
       "KATEGORIE_BEZEICHNUNG                  0\n",
       "KATEGORIE_DIRECT_ID                    0\n",
       "KATEGORIE_DIRECT_BEZEICHNUNG           0\n",
       "NOS                                    0\n",
       "VEK                                    0\n",
       "BEK                                    0\n",
       "STAMM_VK                               0\n",
       "dtype: int64"
      ]
     },
     "execution_count": 10,
     "metadata": {},
     "output_type": "execute_result"
    }
   ],
   "source": [
    "art_hi.isnull().sum()"
   ]
  },
  {
   "cell_type": "markdown",
   "metadata": {},
   "source": [
    "### Transform Data "
   ]
  },
  {
   "cell_type": "markdown",
   "metadata": {},
   "source": [
    "Zeilen auswählen "
   ]
  },
  {
   "cell_type": "code",
   "execution_count": null,
   "metadata": {},
   "outputs": [],
   "source": []
  }
 ],
 "metadata": {
  "kernelspec": {
   "display_name": "analytics",
   "language": "python",
   "name": "python3"
  },
  "language_info": {
   "codemirror_mode": {
    "name": "ipython",
    "version": 3
   },
   "file_extension": ".py",
   "mimetype": "text/x-python",
   "name": "python",
   "nbconvert_exporter": "python",
   "pygments_lexer": "ipython3",
   "version": "3.11.4"
  }
 },
 "nbformat": 4,
 "nbformat_minor": 2
}
